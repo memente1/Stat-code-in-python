{
 "cells": [
  {
   "cell_type": "markdown",
   "metadata": {},
   "source": [
    "# hypothesis testing"
   ]
  },
  {
   "cell_type": "code",
   "execution_count": null,
   "metadata": {
    "collapsed": true
   },
   "outputs": [],
   "source": [
    "import pandas as pd \n",
    "import math"
   ]
  },
  {
   "cell_type": "code",
   "execution_count": null,
   "metadata": {
    "collapsed": true
   },
   "outputs": [],
   "source": [
    "mean= int(input('Please enter a mean: ))\n",
    "sigma= int(input(\"Please enter a sigma: \"))\n",
    "x= int(input(\"Please enter a observed X: \"))\n",
    "z=(x-mean)/sigma\n",
    "print ('The z-score is ',z)\n",
    "phi=(.5*(1+math.erf((x-mean)/(2*sigma**2)**.5\n",
    ")))\n",
    "twotail=1-(1-phi)*2\n",
    "for CI in range (90,100):\n",
    "if CI/100<twotail:\n",
    "    print CI,'% is a level that is rejected'\n",
    "else:\n",
    "print CI,'% is a level that is not\n",
    "rejected'"
   ]
  },
  {
   "cell_type": "markdown",
   "metadata": {
    "collapsed": true
   },
   "source": [
    "# confidence intervals"
   ]
  },
  {
   "cell_type": "markdown",
   "metadata": {},
   "source": [
    "import random\n",
    "w=[]\n",
    "y=[]\n",
    "y2=[]\n",
    "n=1\n",
    "m=1\n",
    "import csv\n",
    "while n<21:\n",
    "print(n)\n",
    "while m<31:\n",
    "xd=random.normalvariate(19,1)\n",
    "m=m+1\n",
    "w.append(xd)\n",
    "m=1\n",
    "x=sum(w)/len(w)\n",
    "del w[:]\n",
    "y.append(x)\n",
    "y2.append(x**2)\n",
    "n=n+1\n",
    "print(sum(y)/len(y))\n",
    "print((sum(y2)/len(y2)-(sum(y)/len(y))**2)**.5)\n",
    "print(((sum(y2)/len(y2)-(sum(y)/len(y))**2)*(len(y))/(len(y)-1))**.\n",
    "5)"
   ]
  },
  {
   "cell_type": "markdown",
   "metadata": {},
   "source": [
    "# Alternate code changes for confidence intervals"
   ]
  },
  {
   "cell_type": "code",
   "execution_count": null,
   "metadata": {
    "collapsed": true
   },
   "outputs": [],
   "source": [
    "# A small number of computers can have a hard time doing a ratio between two numbers in Python.\n",
    "#This has to do with Python registering the probability ratio (between 0 and 1) as only 0 or 1, and nothing in between. Therefore if you multiplied this\n",
    "#ratio by 100 to show the value in percentage units, it still came to 0 and 1 (only 0 or 1 was being multiplied by 100).\n",
    "# There are many creative trouble-shooting routes that arrive at the same destination... the key is to be able to find your own way.\n",
    "#SOLUTION 1 (using a float command to reset the units... incidentally the bold portion below should be optional)\n",
    "#for i in range(90, 100):\n"
   ]
  },
  {
   "cell_type": "code",
   "execution_count": null,
   "metadata": {
    "collapsed": true
   },
   "outputs": [],
   "source": []
  },
  {
   "cell_type": "code",
   "execution_count": null,
   "metadata": {
    "collapsed": true
   },
   "outputs": [],
   "source": []
  },
  {
   "cell_type": "markdown",
   "metadata": {},
   "source": [
    "# correlated random variables"
   ]
  },
  {
   "cell_type": "code",
   "execution_count": null,
   "metadata": {
    "collapsed": true
   },
   "outputs": [],
   "source": [
    "import random\n",
    "n=1\n",
    "m=0\n",
    "r=-.5\n",
    "while n<1001:\n",
    "xd=random.normalvariate(0,1)\n",
    "zd=random.normalvariate(0,1)\n",
    "zd2=r*xd+((1-r**2)**.5)*zd\n",
    "if (500+100*xd+500+100*zd2)>1135: m=m+1\n",
    "print(xd+zd2)\n",
    "n=n+1\n",
    "print(m)"
   ]
  }
 ],
 "metadata": {
  "kernelspec": {
   "display_name": "Python 3",
   "language": "python",
   "name": "python3"
  },
  "language_info": {
   "codemirror_mode": {
    "name": "ipython",
    "version": 3
   },
   "file_extension": ".py",
   "mimetype": "text/x-python",
   "name": "python",
   "nbconvert_exporter": "python",
   "pygments_lexer": "ipython3",
   "version": "3.6.0"
  }
 },
 "nbformat": 4,
 "nbformat_minor": 2
}
